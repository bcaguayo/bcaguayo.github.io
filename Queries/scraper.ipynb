{
 "cells": [
  {
   "cell_type": "code",
   "execution_count": 1,
   "metadata": {},
   "outputs": [
    {
     "name": "stdout",
     "output_type": "stream",
     "text": [
      "Collecting insta-scrape\n",
      "  Using cached insta_scrape-2.1.2-py3-none-any.whl (26 kB)\n",
      "Requirement already satisfied: beautifulsoup4 in c:\\users\\emili\\anaconda3\\lib\\site-packages (from insta-scrape) (4.11.1)\n",
      "Requirement already satisfied: requests in c:\\users\\emili\\anaconda3\\lib\\site-packages (from insta-scrape) (2.28.1)\n",
      "Requirement already satisfied: soupsieve>1.2 in c:\\users\\emili\\anaconda3\\lib\\site-packages (from beautifulsoup4->insta-scrape) (2.3.1)\n",
      "Requirement already satisfied: certifi>=2017.4.17 in c:\\users\\emili\\anaconda3\\lib\\site-packages (from requests->insta-scrape) (2022.9.14)\n",
      "Requirement already satisfied: urllib3<1.27,>=1.21.1 in c:\\users\\emili\\anaconda3\\lib\\site-packages (from requests->insta-scrape) (1.26.11)\n",
      "Requirement already satisfied: charset-normalizer<3,>=2 in c:\\users\\emili\\anaconda3\\lib\\site-packages (from requests->insta-scrape) (2.0.4)\n",
      "Requirement already satisfied: idna<4,>=2.5 in c:\\users\\emili\\anaconda3\\lib\\site-packages (from requests->insta-scrape) (3.3)\n",
      "Installing collected packages: insta-scrape\n",
      "Successfully installed insta-scrape-2.1.2\n",
      "Note: you may need to restart the kernel to use updated packages.\n"
     ]
    }
   ],
   "source": [
    "%pip install insta-scrape"
   ]
  },
  {
   "cell_type": "code",
   "execution_count": 3,
   "metadata": {},
   "outputs": [
    {
     "name": "stderr",
     "output_type": "stream",
     "text": [
      "c:\\Users\\emili\\anaconda3\\envs\\environment_name\\lib\\site-packages\\instascrape\\core\\_static_scraper.py:134: MissingCookiesWarning: Request header does not contain cookies! It's recommended you pass at least a valid sessionid otherwise Instagram will likely redirect you to their login page.\n",
      "  warnings.warn(\n"
     ]
    },
    {
     "ename": "ValueError",
     "evalue": "Invalid value NaN (not a number)",
     "output_type": "error",
     "traceback": [
      "\u001b[1;31m---------------------------------------------------------------------------\u001b[0m",
      "\u001b[1;31mValueError\u001b[0m                                Traceback (most recent call last)",
      "\u001b[1;32mc:\\Users\\emili\\Documents\\GitHub\\Bongo.IO\\Queries\\scraper.ipynb Cell 2\u001b[0m line \u001b[0;36m1\n\u001b[0;32m      <a href='vscode-notebook-cell:/c%3A/Users/emili/Documents/GitHub/Bongo.IO/Queries/scraper.ipynb#W1sZmlsZQ%3D%3D?line=7'>8</a>\u001b[0m \u001b[39m# Scrape their respective data \u001b[39;00m\n\u001b[0;32m      <a href='vscode-notebook-cell:/c%3A/Users/emili/Documents/GitHub/Bongo.IO/Queries/scraper.ipynb#W1sZmlsZQ%3D%3D?line=8'>9</a>\u001b[0m google\u001b[39m.\u001b[39mscrape()\n\u001b[1;32m---> <a href='vscode-notebook-cell:/c%3A/Users/emili/Documents/GitHub/Bongo.IO/Queries/scraper.ipynb#W1sZmlsZQ%3D%3D?line=9'>10</a>\u001b[0m google_post\u001b[39m.\u001b[39;49mscrape()\n\u001b[0;32m     <a href='vscode-notebook-cell:/c%3A/Users/emili/Documents/GitHub/Bongo.IO/Queries/scraper.ipynb#W1sZmlsZQ%3D%3D?line=10'>11</a>\u001b[0m google_hashtag\u001b[39m.\u001b[39mscrape()\n\u001b[0;32m     <a href='vscode-notebook-cell:/c%3A/Users/emili/Documents/GitHub/Bongo.IO/Queries/scraper.ipynb#W1sZmlsZQ%3D%3D?line=12'>13</a>\u001b[0m \u001b[39mprint\u001b[39m(google\u001b[39m.\u001b[39mfollowers)\n",
      "File \u001b[1;32mc:\\Users\\emili\\anaconda3\\envs\\environment_name\\lib\\site-packages\\instascrape\\scrapers\\post.py:88\u001b[0m, in \u001b[0;36mPost.scrape\u001b[1;34m(self, mapping, keys, exclude, headers, inplace, session, webdriver)\u001b[0m\n\u001b[0;32m     85\u001b[0m \u001b[39m# HACK: This isn't a very clean solution and there is certainly a better\u001b[39;00m\n\u001b[0;32m     86\u001b[0m \u001b[39m# way to deal with returning a Post object with only partial data\u001b[39;00m\n\u001b[0;32m     87\u001b[0m \u001b[39mif\u001b[39;00m \u001b[39mhasattr\u001b[39m(return_instance, \u001b[39m\"\u001b[39m\u001b[39mtimestamp\u001b[39m\u001b[39m\"\u001b[39m):\n\u001b[1;32m---> 88\u001b[0m     return_instance\u001b[39m.\u001b[39mupload_date \u001b[39m=\u001b[39m datetime\u001b[39m.\u001b[39;49mdatetime\u001b[39m.\u001b[39;49mfromtimestamp(return_instance\u001b[39m.\u001b[39;49mtimestamp)\n\u001b[0;32m     89\u001b[0m \u001b[39mif\u001b[39;00m \u001b[39mhasattr\u001b[39m(return_instance, \u001b[39m\"\u001b[39m\u001b[39mshortcode\u001b[39m\u001b[39m\"\u001b[39m):\n\u001b[0;32m     90\u001b[0m     return_instance\u001b[39m.\u001b[39murl \u001b[39m=\u001b[39m \u001b[39mself\u001b[39m\u001b[39m.\u001b[39m_url_from_suburl(return_instance\u001b[39m.\u001b[39mshortcode)\n",
      "\u001b[1;31mValueError\u001b[0m: Invalid value NaN (not a number)"
     ]
    }
   ],
   "source": [
    "from instascrape import *\n",
    "\n",
    "# Instantiate the scraper objects \n",
    "google = Profile('https://www.instagram.com/google/')\n",
    "google_post = Post('https://www.instagram.com/p/CG0UU3ylXnv/')\n",
    "google_hashtag = Hashtag('https://www.instagram.com/explore/tags/google/')\n",
    "\n",
    "# Scrape their respective data \n",
    "google.scrape()\n",
    "google_post.scrape()\n",
    "google_hashtag.scrape()\n",
    "\n",
    "print(google.followers)\n",
    "print(google_post['hashtags'])\n",
    "print(google_hashtag.amount_of_posts)\n",
    "\n",
    "# Create an InstagramScraper object\n",
    "# loader = instascrape.Instaloader()\n",
    "\n",
    "# # Get a list of tattoo accounts\n",
    "# tattoo_accounts = [\"@tattooartist1\", \"@tattooartist2\", \"@tattooartist3\"]\n",
    "\n",
    "# # Scrape images from the tattoo accounts\n",
    "# for account in tattoo_accounts:\n",
    "#     loader.download_profile(account, profile_pic_only=False)\n",
    "\n",
    "# List the images in a site\n",
    "# You can use a variety of tools and technologies to do this, such as HTML, CSS, and JavaScript"
   ]
  },
  {
   "cell_type": "code",
   "execution_count": 2,
   "metadata": {},
   "outputs": [
    {
     "name": "stdout",
     "output_type": "stream",
     "text": [
      "Collecting selenium\n",
      "  Using cached selenium-4.14.0-py3-none-any.whl (9.9 MB)\n",
      "Requirement already satisfied: urllib3[socks]<3,>=1.26 in c:\\users\\emili\\anaconda3\\lib\\site-packages (from selenium) (1.26.11)\n",
      "Requirement already satisfied: certifi>=2021.10.8 in c:\\users\\emili\\anaconda3\\lib\\site-packages (from selenium) (2022.9.14)\n",
      "Collecting trio-websocket~=0.9\n",
      "  Using cached trio_websocket-0.11.1-py3-none-any.whl (17 kB)\n",
      "Collecting trio~=0.17\n",
      "  Using cached trio-0.22.2-py3-none-any.whl (400 kB)\n",
      "Collecting exceptiongroup>=1.0.0rc9\n",
      "  Using cached exceptiongroup-1.1.3-py3-none-any.whl (14 kB)\n",
      "Collecting outcome\n",
      "  Using cached outcome-1.3.0.post0-py2.py3-none-any.whl (10 kB)\n",
      "Requirement already satisfied: sortedcontainers in c:\\users\\emili\\anaconda3\\lib\\site-packages (from trio~=0.17->selenium) (2.4.0)\n",
      "Requirement already satisfied: idna in c:\\users\\emili\\anaconda3\\lib\\site-packages (from trio~=0.17->selenium) (3.3)\n",
      "Requirement already satisfied: sniffio in c:\\users\\emili\\anaconda3\\lib\\site-packages (from trio~=0.17->selenium) (1.2.0)\n",
      "Requirement already satisfied: cffi>=1.14 in c:\\users\\emili\\anaconda3\\lib\\site-packages (from trio~=0.17->selenium) (1.15.1)\n",
      "Requirement already satisfied: attrs>=20.1.0 in c:\\users\\emili\\anaconda3\\lib\\site-packages (from trio~=0.17->selenium) (21.4.0)\n",
      "Collecting wsproto>=0.14\n",
      "  Using cached wsproto-1.2.0-py3-none-any.whl (24 kB)\n",
      "Requirement already satisfied: PySocks!=1.5.7,<2.0,>=1.5.6 in c:\\users\\emili\\anaconda3\\lib\\site-packages (from urllib3[socks]<3,>=1.26->selenium) (1.7.1)\n",
      "Requirement already satisfied: pycparser in c:\\users\\emili\\anaconda3\\lib\\site-packages (from cffi>=1.14->trio~=0.17->selenium) (2.21)\n",
      "Collecting h11<1,>=0.9.0\n",
      "  Using cached h11-0.14.0-py3-none-any.whl (58 kB)\n",
      "Installing collected packages: outcome, h11, exceptiongroup, wsproto, trio, trio-websocket, selenium\n",
      "Successfully installed exceptiongroup-1.1.3 h11-0.14.0 outcome-1.3.0.post0 selenium-4.14.0 trio-0.22.2 trio-websocket-0.11.1 wsproto-1.2.0\n",
      "Note: you may need to restart the kernel to use updated packages.\n"
     ]
    }
   ],
   "source": [
    "%pip install selenium"
   ]
  },
  {
   "cell_type": "code",
   "execution_count": 3,
   "metadata": {},
   "outputs": [],
   "source": [
    "from selenium.webdriver import Chrome \n",
    "from instascrape import Profile, scrape_posts"
   ]
  },
  {
   "cell_type": "code",
   "execution_count": 4,
   "metadata": {},
   "outputs": [
    {
     "ename": "NoSuchDriverException",
     "evalue": "Message: Unable to obtain driver for chrome using Selenium Manager.; For documentation on this error, please visit: https://www.selenium.dev/documentation/webdriver/troubleshooting/errors/driver_location\n",
     "output_type": "error",
     "traceback": [
      "\u001b[1;31m---------------------------------------------------------------------------\u001b[0m",
      "\u001b[1;31mWebDriverException\u001b[0m                        Traceback (most recent call last)",
      "\u001b[1;32mc:\\Users\\emili\\anaconda3\\lib\\site-packages\\selenium\\webdriver\\common\\driver_finder.py\u001b[0m in \u001b[0;36mget_path\u001b[1;34m(service, options)\u001b[0m\n\u001b[0;32m     37\u001b[0m         \u001b[1;32mtry\u001b[0m\u001b[1;33m:\u001b[0m\u001b[1;33m\u001b[0m\u001b[1;33m\u001b[0m\u001b[0m\n\u001b[1;32m---> 38\u001b[1;33m             \u001b[0mpath\u001b[0m \u001b[1;33m=\u001b[0m \u001b[0mSeleniumManager\u001b[0m\u001b[1;33m(\u001b[0m\u001b[1;33m)\u001b[0m\u001b[1;33m.\u001b[0m\u001b[0mdriver_location\u001b[0m\u001b[1;33m(\u001b[0m\u001b[0moptions\u001b[0m\u001b[1;33m)\u001b[0m \u001b[1;32mif\u001b[0m \u001b[0mpath\u001b[0m \u001b[1;32mis\u001b[0m \u001b[1;32mNone\u001b[0m \u001b[1;32melse\u001b[0m \u001b[0mpath\u001b[0m\u001b[1;33m\u001b[0m\u001b[1;33m\u001b[0m\u001b[0m\n\u001b[0m\u001b[0;32m     39\u001b[0m         \u001b[1;32mexcept\u001b[0m \u001b[0mException\u001b[0m \u001b[1;32mas\u001b[0m \u001b[0merr\u001b[0m\u001b[1;33m:\u001b[0m\u001b[1;33m\u001b[0m\u001b[1;33m\u001b[0m\u001b[0m\n",
      "\u001b[1;32mc:\\Users\\emili\\anaconda3\\lib\\site-packages\\selenium\\webdriver\\common\\selenium_manager.py\u001b[0m in \u001b[0;36mdriver_location\u001b[1;34m(self, options)\u001b[0m\n\u001b[0;32m     97\u001b[0m \u001b[1;33m\u001b[0m\u001b[0m\n\u001b[1;32m---> 98\u001b[1;33m         \u001b[0moutput\u001b[0m \u001b[1;33m=\u001b[0m \u001b[0mself\u001b[0m\u001b[1;33m.\u001b[0m\u001b[0mrun\u001b[0m\u001b[1;33m(\u001b[0m\u001b[0margs\u001b[0m\u001b[1;33m)\u001b[0m\u001b[1;33m\u001b[0m\u001b[1;33m\u001b[0m\u001b[0m\n\u001b[0m\u001b[0;32m     99\u001b[0m \u001b[1;33m\u001b[0m\u001b[0m\n",
      "\u001b[1;32mc:\\Users\\emili\\anaconda3\\lib\\site-packages\\selenium\\webdriver\\common\\selenium_manager.py\u001b[0m in \u001b[0;36mrun\u001b[1;34m(args)\u001b[0m\n\u001b[0;32m    143\u001b[0m         \u001b[1;32mif\u001b[0m \u001b[0mcompleted_proc\u001b[0m\u001b[1;33m.\u001b[0m\u001b[0mreturncode\u001b[0m\u001b[1;33m:\u001b[0m\u001b[1;33m\u001b[0m\u001b[1;33m\u001b[0m\u001b[0m\n\u001b[1;32m--> 144\u001b[1;33m             \u001b[1;32mraise\u001b[0m \u001b[0mWebDriverException\u001b[0m\u001b[1;33m(\u001b[0m\u001b[1;34mf\"Unsuccessful command executed: {command}.\\n{result}{stderr}\"\u001b[0m\u001b[1;33m)\u001b[0m\u001b[1;33m\u001b[0m\u001b[1;33m\u001b[0m\u001b[0m\n\u001b[0m\u001b[0;32m    145\u001b[0m         \u001b[1;32mreturn\u001b[0m \u001b[0mresult\u001b[0m\u001b[1;33m\u001b[0m\u001b[1;33m\u001b[0m\u001b[0m\n",
      "\u001b[1;31mWebDriverException\u001b[0m: Message: Unsuccessful command executed: c:\\Users\\emili\\anaconda3\\lib\\site-packages\\selenium\\webdriver\\common\\windows\\selenium-manager.exe --browser chrome --output json.\n{'code': 65, 'message': 'error sending request for url (https://googlechromelabs.github.io/chrome-for-testing/known-good-versions-with-downloads.json): connection error: connection reset', 'driver_path': '', 'browser_path': ''}\n",
      "\nThe above exception was the direct cause of the following exception:\n",
      "\u001b[1;31mNoSuchDriverException\u001b[0m                     Traceback (most recent call last)",
      "\u001b[1;32m~\\AppData\\Local\\Temp\\ipykernel_30012\\3211614072.py\u001b[0m in \u001b[0;36m<module>\u001b[1;34m\u001b[0m\n\u001b[1;32m----> 1\u001b[1;33m \u001b[0mwebdriver\u001b[0m \u001b[1;33m=\u001b[0m \u001b[0mChrome\u001b[0m\u001b[1;33m(\u001b[0m\u001b[1;33m)\u001b[0m\u001b[1;33m\u001b[0m\u001b[1;33m\u001b[0m\u001b[0m\n\u001b[0m\u001b[0;32m      2\u001b[0m \u001b[0mwebdriver\u001b[0m\u001b[1;33m.\u001b[0m\u001b[0mget\u001b[0m\u001b[1;33m(\u001b[0m\u001b[1;34m\"https://www.google.com/\"\u001b[0m\u001b[1;33m)\u001b[0m\u001b[1;33m\u001b[0m\u001b[1;33m\u001b[0m\u001b[0m\n",
      "\u001b[1;32mc:\\Users\\emili\\anaconda3\\lib\\site-packages\\selenium\\webdriver\\chrome\\webdriver.py\u001b[0m in \u001b[0;36m__init__\u001b[1;34m(self, options, service, keep_alive)\u001b[0m\n\u001b[0;32m     43\u001b[0m         \u001b[0moptions\u001b[0m \u001b[1;33m=\u001b[0m \u001b[0moptions\u001b[0m \u001b[1;32mif\u001b[0m \u001b[0moptions\u001b[0m \u001b[1;32melse\u001b[0m \u001b[0mOptions\u001b[0m\u001b[1;33m(\u001b[0m\u001b[1;33m)\u001b[0m\u001b[1;33m\u001b[0m\u001b[1;33m\u001b[0m\u001b[0m\n\u001b[0;32m     44\u001b[0m \u001b[1;33m\u001b[0m\u001b[0m\n\u001b[1;32m---> 45\u001b[1;33m         super().__init__(\n\u001b[0m\u001b[0;32m     46\u001b[0m             \u001b[0mDesiredCapabilities\u001b[0m\u001b[1;33m.\u001b[0m\u001b[0mCHROME\u001b[0m\u001b[1;33m[\u001b[0m\u001b[1;34m\"browserName\"\u001b[0m\u001b[1;33m]\u001b[0m\u001b[1;33m,\u001b[0m\u001b[1;33m\u001b[0m\u001b[1;33m\u001b[0m\u001b[0m\n\u001b[0;32m     47\u001b[0m             \u001b[1;34m\"goog\"\u001b[0m\u001b[1;33m,\u001b[0m\u001b[1;33m\u001b[0m\u001b[1;33m\u001b[0m\u001b[0m\n",
      "\u001b[1;32mc:\\Users\\emili\\anaconda3\\lib\\site-packages\\selenium\\webdriver\\chromium\\webdriver.py\u001b[0m in \u001b[0;36m__init__\u001b[1;34m(self, browser_name, vendor_prefix, options, service, keep_alive)\u001b[0m\n\u001b[0;32m     49\u001b[0m         \u001b[0mself\u001b[0m\u001b[1;33m.\u001b[0m\u001b[0mservice\u001b[0m \u001b[1;33m=\u001b[0m \u001b[0mservice\u001b[0m\u001b[1;33m\u001b[0m\u001b[1;33m\u001b[0m\u001b[0m\n\u001b[0;32m     50\u001b[0m \u001b[1;33m\u001b[0m\u001b[0m\n\u001b[1;32m---> 51\u001b[1;33m         \u001b[0mself\u001b[0m\u001b[1;33m.\u001b[0m\u001b[0mservice\u001b[0m\u001b[1;33m.\u001b[0m\u001b[0mpath\u001b[0m \u001b[1;33m=\u001b[0m \u001b[0mDriverFinder\u001b[0m\u001b[1;33m.\u001b[0m\u001b[0mget_path\u001b[0m\u001b[1;33m(\u001b[0m\u001b[0mself\u001b[0m\u001b[1;33m.\u001b[0m\u001b[0mservice\u001b[0m\u001b[1;33m,\u001b[0m \u001b[0moptions\u001b[0m\u001b[1;33m)\u001b[0m\u001b[1;33m\u001b[0m\u001b[1;33m\u001b[0m\u001b[0m\n\u001b[0m\u001b[0;32m     52\u001b[0m \u001b[1;33m\u001b[0m\u001b[0m\n\u001b[0;32m     53\u001b[0m         \u001b[0mself\u001b[0m\u001b[1;33m.\u001b[0m\u001b[0mservice\u001b[0m\u001b[1;33m.\u001b[0m\u001b[0mstart\u001b[0m\u001b[1;33m(\u001b[0m\u001b[1;33m)\u001b[0m\u001b[1;33m\u001b[0m\u001b[1;33m\u001b[0m\u001b[0m\n",
      "\u001b[1;32mc:\\Users\\emili\\anaconda3\\lib\\site-packages\\selenium\\webdriver\\common\\driver_finder.py\u001b[0m in \u001b[0;36mget_path\u001b[1;34m(service, options)\u001b[0m\n\u001b[0;32m     39\u001b[0m         \u001b[1;32mexcept\u001b[0m \u001b[0mException\u001b[0m \u001b[1;32mas\u001b[0m \u001b[0merr\u001b[0m\u001b[1;33m:\u001b[0m\u001b[1;33m\u001b[0m\u001b[1;33m\u001b[0m\u001b[0m\n\u001b[0;32m     40\u001b[0m             \u001b[0mmsg\u001b[0m \u001b[1;33m=\u001b[0m \u001b[1;34mf\"Unable to obtain driver for {options.capabilities['browserName']} using Selenium Manager.\"\u001b[0m\u001b[1;33m\u001b[0m\u001b[1;33m\u001b[0m\u001b[0m\n\u001b[1;32m---> 41\u001b[1;33m             \u001b[1;32mraise\u001b[0m \u001b[0mNoSuchDriverException\u001b[0m\u001b[1;33m(\u001b[0m\u001b[0mmsg\u001b[0m\u001b[1;33m)\u001b[0m \u001b[1;32mfrom\u001b[0m \u001b[0merr\u001b[0m\u001b[1;33m\u001b[0m\u001b[1;33m\u001b[0m\u001b[0m\n\u001b[0m\u001b[0;32m     42\u001b[0m \u001b[1;33m\u001b[0m\u001b[0m\n\u001b[0;32m     43\u001b[0m         \u001b[1;32mif\u001b[0m \u001b[0mpath\u001b[0m \u001b[1;32mis\u001b[0m \u001b[1;32mNone\u001b[0m \u001b[1;32mor\u001b[0m \u001b[1;32mnot\u001b[0m \u001b[0mPath\u001b[0m\u001b[1;33m(\u001b[0m\u001b[0mpath\u001b[0m\u001b[1;33m)\u001b[0m\u001b[1;33m.\u001b[0m\u001b[0mis_file\u001b[0m\u001b[1;33m(\u001b[0m\u001b[1;33m)\u001b[0m\u001b[1;33m:\u001b[0m\u001b[1;33m\u001b[0m\u001b[1;33m\u001b[0m\u001b[0m\n",
      "\u001b[1;31mNoSuchDriverException\u001b[0m: Message: Unable to obtain driver for chrome using Selenium Manager.; For documentation on this error, please visit: https://www.selenium.dev/documentation/webdriver/troubleshooting/errors/driver_location\n"
     ]
    }
   ],
   "source": [
    "webdriver = Chrome()\n",
    "webdriver.get(\"https://www.google.com/\")"
   ]
  },
  {
   "cell_type": "code",
   "execution_count": 5,
   "metadata": {},
   "outputs": [
    {
     "name": "stdout",
     "output_type": "stream",
     "text": [
      "Collecting seleniumbase\n",
      "  Downloading seleniumbase-4.20.8-py3-none-any.whl (546 kB)\n",
      "     -------------------------------------- 546.8/546.8 kB 1.6 MB/s eta 0:00:00\n",
      "Collecting fasteners==0.19\n",
      "  Downloading fasteners-0.19-py3-none-any.whl (18 kB)\n",
      "Collecting colorama==0.4.6\n",
      "  Using cached colorama-0.4.6-py2.py3-none-any.whl (25 kB)\n",
      "Collecting pygments==2.16.1\n",
      "  Using cached Pygments-2.16.1-py3-none-any.whl (1.2 MB)\n",
      "Collecting platformdirs>=3.11.0\n",
      "  Using cached platformdirs-3.11.0-py3-none-any.whl (17 kB)\n",
      "Requirement already satisfied: trio==0.22.2 in c:\\users\\emili\\anaconda3\\lib\\site-packages (from seleniumbase) (0.22.2)\n",
      "Collecting parse-type>=0.6.2\n",
      "  Downloading parse_type-0.6.2-py2.py3-none-any.whl (26 kB)\n",
      "Collecting pytest-metadata==3.0.0\n",
      "  Downloading pytest_metadata-3.0.0-py3-none-any.whl (10 kB)\n",
      "Collecting pluggy==1.3.0\n",
      "  Downloading pluggy-1.3.0-py3-none-any.whl (18 kB)\n",
      "Collecting pytest-xdist==3.3.1\n",
      "  Downloading pytest_xdist-3.3.1-py3-none-any.whl (41 kB)\n",
      "     ---------------------------------------- 41.8/41.8 kB ? eta 0:00:00\n",
      "Collecting behave==1.2.6\n",
      "  Downloading behave-1.2.6-py2.py3-none-any.whl (136 kB)\n",
      "     -------------------------------------- 136.8/136.8 kB 1.2 MB/s eta 0:00:00\n",
      "Collecting certifi>=2023.7.22\n",
      "  Using cached certifi-2023.7.22-py3-none-any.whl (158 kB)\n",
      "Collecting wheel>=0.41.2\n",
      "  Downloading wheel-0.41.3-py3-none-any.whl (65 kB)\n",
      "     ---------------------------------------- 65.8/65.8 kB ? eta 0:00:00\n",
      "Collecting pytest-ordering==0.6\n",
      "  Downloading pytest_ordering-0.6-py3-none-any.whl (4.6 kB)\n",
      "Collecting packaging>=23.2\n",
      "  Using cached packaging-23.2-py3-none-any.whl (53 kB)\n",
      "Requirement already satisfied: selenium==4.14.0 in c:\\users\\emili\\anaconda3\\lib\\site-packages (from seleniumbase) (4.14.0)\n",
      "Collecting execnet==2.0.2\n",
      "  Downloading execnet-2.0.2-py3-none-any.whl (37 kB)\n",
      "Collecting pdbp==1.5.0\n",
      "  Downloading pdbp-1.5.0-py3-none-any.whl (17 kB)\n",
      "Collecting pytest==7.4.3\n",
      "  Downloading pytest-7.4.3-py3-none-any.whl (325 kB)\n",
      "     ------------------------------------- 325.1/325.1 kB 10.2 MB/s eta 0:00:00\n",
      "Collecting pynose==1.4.8\n",
      "  Downloading pynose-1.4.8-py3-none-any.whl (116 kB)\n",
      "     -------------------------------------- 116.0/116.0 kB 6.6 MB/s eta 0:00:00\n",
      "Collecting urllib3<2,>=1.26.18\n",
      "  Downloading urllib3-1.26.18-py2.py3-none-any.whl (143 kB)\n",
      "     -------------------------------------- 143.8/143.8 kB 8.9 MB/s eta 0:00:00\n",
      "Collecting setuptools>=68.2.2\n",
      "  Downloading setuptools-68.2.2-py3-none-any.whl (807 kB)\n",
      "     ------------------------------------- 807.9/807.9 kB 10.2 MB/s eta 0:00:00\n",
      "Collecting pyotp==2.9.0\n",
      "  Downloading pyotp-2.9.0-py3-none-any.whl (13 kB)\n",
      "Collecting filelock>=3.13.0\n",
      "  Downloading filelock-3.13.1-py3-none-any.whl (11 kB)\n",
      "Collecting attrs>=23.1.0\n",
      "  Using cached attrs-23.1.0-py3-none-any.whl (61 kB)\n",
      "Requirement already satisfied: wsproto==1.2.0 in c:\\users\\emili\\anaconda3\\lib\\site-packages (from seleniumbase) (1.2.0)\n",
      "Collecting charset-normalizer==3.3.1\n",
      "  Downloading charset_normalizer-3.3.1-cp39-cp39-win_amd64.whl (98 kB)\n",
      "     ---------------------------------------- 98.7/98.7 kB 5.5 MB/s eta 0:00:00\n",
      "Requirement already satisfied: six==1.16.0 in c:\\users\\emili\\anaconda3\\lib\\site-packages (from seleniumbase) (1.16.0)\n",
      "Collecting pip>=23.3.1\n",
      "  Downloading pip-23.3.1-py3-none-any.whl (2.1 MB)\n",
      "     ---------------------------------------- 2.1/2.1 MB 3.4 MB/s eta 0:00:00\n",
      "Collecting markdown-it-py==3.0.0\n",
      "  Downloading markdown_it_py-3.0.0-py3-none-any.whl (87 kB)\n",
      "     ---------------------------------------- 87.5/87.5 kB 4.8 MB/s eta 0:00:00\n",
      "Collecting parameterized==0.9.0\n",
      "  Downloading parameterized-0.9.0-py2.py3-none-any.whl (20 kB)\n",
      "Requirement already satisfied: py==1.11.0 in c:\\users\\emili\\anaconda3\\lib\\site-packages (from seleniumbase) (1.11.0)\n",
      "Requirement already satisfied: h11==0.14.0 in c:\\users\\emili\\anaconda3\\lib\\site-packages (from seleniumbase) (0.14.0)\n",
      "Collecting parse>=1.19.1\n",
      "  Downloading parse-1.19.1-py2.py3-none-any.whl (18 kB)\n",
      "Collecting sniffio==1.3.0\n",
      "  Using cached sniffio-1.3.0-py3-none-any.whl (10 kB)\n",
      "Requirement already satisfied: trio-websocket==0.11.1 in c:\\users\\emili\\anaconda3\\lib\\site-packages (from seleniumbase) (0.11.1)\n",
      "Requirement already satisfied: sortedcontainers==2.4.0 in c:\\users\\emili\\anaconda3\\lib\\site-packages (from seleniumbase) (2.4.0)\n",
      "Collecting idna==3.4\n",
      "  Using cached idna-3.4-py3-none-any.whl (61 kB)\n",
      "Collecting chardet==5.2.0\n",
      "  Downloading chardet-5.2.0-py3-none-any.whl (199 kB)\n",
      "     -------------------------------------- 199.4/199.4 kB 4.0 MB/s eta 0:00:00\n",
      "Collecting pytest-html==2.0.1\n",
      "  Downloading pytest_html-2.0.1-py2.py3-none-any.whl (15 kB)\n",
      "Requirement already satisfied: outcome==1.3.0.post0 in c:\\users\\emili\\anaconda3\\lib\\site-packages (from seleniumbase) (1.3.0.post0)\n",
      "Requirement already satisfied: exceptiongroup==1.1.3 in c:\\users\\emili\\anaconda3\\lib\\site-packages (from seleniumbase) (1.1.3)\n",
      "Collecting requests==2.31.0\n",
      "  Using cached requests-2.31.0-py3-none-any.whl (62 kB)\n",
      "Collecting sbvirtualdisplay==1.2.0\n",
      "  Downloading sbvirtualdisplay-1.2.0-py2.py3-none-any.whl (13 kB)\n",
      "Collecting pyreadline3==3.4.1\n",
      "  Downloading pyreadline3-3.4.1-py3-none-any.whl (95 kB)\n",
      "     ---------------------------------------- 95.2/95.2 kB ? eta 0:00:00\n",
      "Collecting tabcompleter==1.3.0\n",
      "  Downloading tabcompleter-1.3.0-py3-none-any.whl (6.5 kB)\n",
      "Collecting soupsieve==2.5\n",
      "  Using cached soupsieve-2.5-py3-none-any.whl (36 kB)\n",
      "Collecting iniconfig==2.0.0\n",
      "  Downloading iniconfig-2.0.0-py3-none-any.whl (5.9 kB)\n",
      "Collecting rich==13.6.0\n",
      "  Downloading rich-13.6.0-py3-none-any.whl (239 kB)\n",
      "     ------------------------------------- 239.8/239.8 kB 14.3 MB/s eta 0:00:00\n",
      "Collecting pytest-rerunfailures==12.0\n",
      "  Downloading pytest_rerunfailures-12.0-py3-none-any.whl (12 kB)\n",
      "Collecting beautifulsoup4==4.12.2\n",
      "  Using cached beautifulsoup4-4.12.2-py3-none-any.whl (142 kB)\n",
      "Collecting mdurl==0.1.2\n",
      "  Downloading mdurl-0.1.2-py3-none-any.whl (10.0 kB)\n",
      "Collecting cssselect==1.2.0\n",
      "  Downloading cssselect-1.2.0-py2.py3-none-any.whl (18 kB)\n",
      "Requirement already satisfied: tomli>=1.0.0 in c:\\users\\emili\\anaconda3\\lib\\site-packages (from pytest==7.4.3->seleniumbase) (2.0.1)\n",
      "Requirement already satisfied: urllib3[socks]<3,>=1.26 in c:\\users\\emili\\anaconda3\\lib\\site-packages (from selenium==4.14.0->seleniumbase) (1.26.11)\n",
      "Requirement already satisfied: cffi>=1.14 in c:\\users\\emili\\anaconda3\\lib\\site-packages (from trio==0.22.2->seleniumbase) (1.15.1)\n",
      "Requirement already satisfied: pycparser in c:\\users\\emili\\anaconda3\\lib\\site-packages (from cffi>=1.14->trio==0.22.2->seleniumbase) (2.21)\n",
      "Collecting urllib3[socks]<3,>=1.26\n",
      "  Downloading urllib3-2.0.7-py3-none-any.whl (124 kB)\n",
      "     -------------------------------------- 124.2/124.2 kB 7.6 MB/s eta 0:00:00\n",
      "  Using cached urllib3-2.0.6-py3-none-any.whl (123 kB)\n",
      "  Downloading urllib3-2.0.5-py3-none-any.whl (123 kB)\n",
      "     -------------------------------------- 123.8/123.8 kB 7.1 MB/s eta 0:00:00\n",
      "  Downloading urllib3-2.0.4-py3-none-any.whl (123 kB)\n",
      "     ---------------------------------------- 123.9/123.9 kB ? eta 0:00:00\n",
      "  Downloading urllib3-2.0.3-py3-none-any.whl (123 kB)\n",
      "     ---------------------------------------- 123.6/123.6 kB ? eta 0:00:00\n",
      "  Downloading urllib3-2.0.2-py3-none-any.whl (123 kB)\n",
      "     ---------------------------------------- 123.2/123.2 kB ? eta 0:00:00\n",
      "Requirement already satisfied: PySocks!=1.5.7,<2.0,>=1.5.6 in c:\\users\\emili\\anaconda3\\lib\\site-packages (from urllib3<2,>=1.26.18->seleniumbase) (1.7.1)\n",
      "Installing collected packages: pyreadline3, parse, wheel, urllib3, tabcompleter, soupsieve, sniffio, setuptools, sbvirtualdisplay, pyotp, pynose, pygments, pluggy, platformdirs, pip, parse-type, parameterized, packaging, mdurl, iniconfig, idna, filelock, fasteners, execnet, cssselect, colorama, charset-normalizer, chardet, certifi, attrs, requests, pytest, pdbp, markdown-it-py, behave, beautifulsoup4, rich, pytest-xdist, pytest-rerunfailures, pytest-ordering, pytest-metadata, pytest-html, seleniumbase\n",
      "  Attempting uninstall: wheel\n",
      "    Found existing installation: wheel 0.37.1\n",
      "    Uninstalling wheel-0.37.1:\n",
      "      Successfully uninstalled wheel-0.37.1\n",
      "  Attempting uninstall: urllib3\n",
      "    Found existing installation: urllib3 1.26.11\n",
      "    Uninstalling urllib3-1.26.11:\n",
      "      Successfully uninstalled urllib3-1.26.11\n",
      "  Attempting uninstall: soupsieve\n",
      "    Found existing installation: soupsieve 2.3.1\n",
      "    Uninstalling soupsieve-2.3.1:\n",
      "      Successfully uninstalled soupsieve-2.3.1\n",
      "  Attempting uninstall: sniffio\n",
      "    Found existing installation: sniffio 1.2.0\n",
      "    Uninstalling sniffio-1.2.0:\n",
      "      Successfully uninstalled sniffio-1.2.0\n",
      "  Attempting uninstall: setuptools\n",
      "    Found existing installation: setuptools 63.4.1\n",
      "    Uninstalling setuptools-63.4.1:\n",
      "      Successfully uninstalled setuptools-63.4.1\n",
      "  Attempting uninstall: pygments\n",
      "    Found existing installation: Pygments 2.11.2\n",
      "    Uninstalling Pygments-2.11.2:\n",
      "      Successfully uninstalled Pygments-2.11.2\n",
      "  Attempting uninstall: pluggy\n",
      "    Found existing installation: pluggy 1.0.0\n",
      "    Uninstalling pluggy-1.0.0:\n",
      "      Successfully uninstalled pluggy-1.0.0\n",
      "  Attempting uninstall: platformdirs\n",
      "    Found existing installation: platformdirs 2.5.2\n",
      "    Uninstalling platformdirs-2.5.2:\n",
      "      Successfully uninstalled platformdirs-2.5.2\n",
      "  Attempting uninstall: pip\n",
      "    Found existing installation: pip 22.2.2\n",
      "    Uninstalling pip-22.2.2:\n",
      "      Successfully uninstalled pip-22.2.2\n",
      "  Attempting uninstall: packaging\n",
      "    Found existing installation: packaging 21.3\n",
      "    Uninstalling packaging-21.3:\n",
      "      Successfully uninstalled packaging-21.3\n",
      "  Attempting uninstall: iniconfig\n",
      "    Found existing installation: iniconfig 1.1.1\n",
      "    Uninstalling iniconfig-1.1.1:\n",
      "      Successfully uninstalled iniconfig-1.1.1\n",
      "  Attempting uninstall: idna\n",
      "    Found existing installation: idna 3.3\n",
      "    Uninstalling idna-3.3:\n",
      "      Successfully uninstalled idna-3.3\n",
      "  Attempting uninstall: filelock\n",
      "    Found existing installation: filelock 3.6.0\n",
      "    Uninstalling filelock-3.6.0:\n",
      "      Successfully uninstalled filelock-3.6.0\n",
      "  Attempting uninstall: cssselect\n",
      "    Found existing installation: cssselect 1.1.0\n",
      "    Uninstalling cssselect-1.1.0:\n",
      "      Successfully uninstalled cssselect-1.1.0\n",
      "  Attempting uninstall: colorama\n",
      "    Found existing installation: colorama 0.4.5\n",
      "    Uninstalling colorama-0.4.5:\n",
      "      Successfully uninstalled colorama-0.4.5\n",
      "  Attempting uninstall: charset-normalizer\n",
      "    Found existing installation: charset-normalizer 2.0.4\n",
      "    Uninstalling charset-normalizer-2.0.4:\n",
      "      Successfully uninstalled charset-normalizer-2.0.4\n",
      "  Attempting uninstall: chardet\n",
      "    Found existing installation: chardet 4.0.0\n",
      "    Uninstalling chardet-4.0.0:\n",
      "      Successfully uninstalled chardet-4.0.0\n",
      "  Attempting uninstall: certifi\n",
      "    Found existing installation: certifi 2022.9.14\n",
      "    Uninstalling certifi-2022.9.14:\n",
      "      Successfully uninstalled certifi-2022.9.14\n",
      "  Attempting uninstall: attrs\n",
      "    Found existing installation: attrs 21.4.0\n",
      "    Uninstalling attrs-21.4.0:\n",
      "      Successfully uninstalled attrs-21.4.0\n",
      "  Attempting uninstall: requests\n",
      "    Found existing installation: requests 2.28.1\n",
      "    Uninstalling requests-2.28.1:\n",
      "      Successfully uninstalled requests-2.28.1\n",
      "  Attempting uninstall: pytest\n",
      "    Found existing installation: pytest 7.1.2\n",
      "    Uninstalling pytest-7.1.2:\n",
      "      Successfully uninstalled pytest-7.1.2\n",
      "  Attempting uninstall: beautifulsoup4\n",
      "    Found existing installation: beautifulsoup4 4.11.1\n",
      "    Uninstalling beautifulsoup4-4.11.1:\n",
      "      Successfully uninstalled beautifulsoup4-4.11.1\n",
      "Successfully installed attrs-23.1.0 beautifulsoup4-4.12.2 behave-1.2.6 certifi-2023.7.22 chardet-5.2.0 charset-normalizer-3.3.1 colorama-0.4.6 cssselect-1.2.0 execnet-2.0.2 fasteners-0.19 filelock-3.13.1 idna-3.4 iniconfig-2.0.0 markdown-it-py-3.0.0 mdurl-0.1.2 packaging-23.2 parameterized-0.9.0 parse-1.19.1 parse-type-0.6.2 pdbp-1.5.0 pip-23.3.1 platformdirs-3.11.0 pluggy-1.3.0 pygments-2.16.1 pynose-1.4.8 pyotp-2.9.0 pyreadline3-3.4.1 pytest-7.4.3 pytest-html-2.0.1 pytest-metadata-3.0.0 pytest-ordering-0.6 pytest-rerunfailures-12.0 pytest-xdist-3.3.1 requests-2.31.0 rich-13.6.0 sbvirtualdisplay-1.2.0 seleniumbase-4.20.8 setuptools-68.2.2 sniffio-1.3.0 soupsieve-2.5 tabcompleter-1.3.0 urllib3-1.26.18 wheel-0.41.3\n",
      "Note: you may need to restart the kernel to use updated packages.\n"
     ]
    },
    {
     "name": "stderr",
     "output_type": "stream",
     "text": [
      "WARNING: Retrying (Retry(total=4, connect=None, read=None, redirect=None, status=None)) after connection broken by 'ProtocolError('Connection aborted.', ConnectionResetError(10054, 'An existing connection was forcibly closed by the remote host', None, 10054, None))': /simple/fasteners/\n",
      "WARNING: Retrying (Retry(total=3, connect=None, read=None, redirect=None, status=None)) after connection broken by 'ProtocolError('Connection aborted.', ConnectionResetError(10054, 'An existing connection was forcibly closed by the remote host', None, 10054, None))': /simple/fasteners/\n",
      "ERROR: pip's dependency resolver does not currently take into account all the packages that are installed. This behaviour is the source of the following dependency conflicts.\n",
      "spyder 5.2.2 requires pyqt5<5.13, which is not installed.\n",
      "spyder 5.2.2 requires pyqtwebengine<5.13, which is not installed.\n",
      "anaconda-project 0.11.1 requires ruamel-yaml, which is not installed.\n",
      "conda-repo-cli 1.0.20 requires clyent==1.2.1, but you have clyent 1.2.2 which is incompatible.\n",
      "conda-repo-cli 1.0.20 requires nbformat==5.4.0, but you have nbformat 5.5.0 which is incompatible.\n",
      "conda-repo-cli 1.0.20 requires requests==2.28.1, but you have requests 2.31.0 which is incompatible.\n"
     ]
    }
   ],
   "source": [
    "%pip install seleniumbase"
   ]
  },
  {
   "cell_type": "code",
   "execution_count": 6,
   "metadata": {},
   "outputs": [
    {
     "name": "stdout",
     "output_type": "stream",
     "text": [
      "\n",
      "Warning: chromedriver not found. Getting it now:\n",
      "\n",
      "*** chromedriver to download = 118.0.5993.70 (Latest Stable) \n",
      "\n",
      "Downloading chromedriver-win64.zip from:\n",
      "https://edgedl.me.gvt1.com/edgedl/chrome/chrome-for-testing/118.0.5993.70/win64/chromedriver-win64.zip ...\n",
      "Download Complete!\n",
      "\n",
      "Extracting ['chromedriver.exe'] from chromedriver-win64.zip ...\n",
      "Unzip Complete!\n",
      "\n",
      "The file [chromedriver.exe] was saved to:\n",
      "C:\\Users\\emili\\anaconda3\\Lib\\site-packages\\seleniumbase\\drivers\\chromedriver.exe\n",
      "\n",
      "Making [chromedriver.exe 118.0.5993.70] executable ...\n",
      "[chromedriver.exe 118.0.5993.70] is now ready for use!\n",
      "\n"
     ]
    },
    {
     "name": "stderr",
     "output_type": "stream",
     "text": [
      "Exception managing chrome: error sending request for url (https://googlechromelabs.github.io/chrome-for-testing/known-good-versions-with-downloads.json): connection error: connection reset\n",
      "Exception managing chrome: error sending request for url (https://googlechromelabs.github.io/chrome-for-testing/known-good-versions-with-downloads.json): error trying to connect: An existing connection was forcibly closed by the remote host. (os error 10054)\n"
     ]
    },
    {
     "ename": "WebDriverException",
     "evalue": "Message: unknown error: cannot find Chrome binary\nStacktrace:\n\tGetHandleVerifier [0x00007FF6E1D38EF2+54786]\n\t(No symbol) [0x00007FF6E1CA5612]\n\t(No symbol) [0x00007FF6E1B5A64B]\n\t(No symbol) [0x00007FF6E1B86E08]\n\t(No symbol) [0x00007FF6E1B853BE]\n\t(No symbol) [0x00007FF6E1BC3FBB]\n\t(No symbol) [0x00007FF6E1BC3A30]\n\t(No symbol) [0x00007FF6E1BBBC43]\n\t(No symbol) [0x00007FF6E1B90941]\n\t(No symbol) [0x00007FF6E1B91B84]\n\tGetHandleVerifier [0x00007FF6E2087F52+3524194]\n\tGetHandleVerifier [0x00007FF6E20DD800+3874576]\n\tGetHandleVerifier [0x00007FF6E20D5D7F+3843215]\n\tGetHandleVerifier [0x00007FF6E1DD5086+694166]\n\t(No symbol) [0x00007FF6E1CB0A88]\n\t(No symbol) [0x00007FF6E1CACA94]\n\t(No symbol) [0x00007FF6E1CACBC2]\n\t(No symbol) [0x00007FF6E1C9CC83]\n\tBaseThreadInitThunk [0x00007FF9C0EE257D+29]\n\tRtlUserThreadStart [0x00007FF9C266AA78+40]\n",
     "output_type": "error",
     "traceback": [
      "\u001b[1;31m---------------------------------------------------------------------------\u001b[0m",
      "\u001b[1;31mWebDriverException\u001b[0m                        Traceback (most recent call last)",
      "\u001b[1;32mc:\\Users\\emili\\anaconda3\\lib\\site-packages\\seleniumbase\\core\\browser_launcher.py\u001b[0m in \u001b[0;36mget_local_driver\u001b[1;34m(browser_name, headless, locale_code, servername, proxy_string, proxy_auth, proxy_user, proxy_pass, proxy_bypass_list, proxy_pac_url, multi_proxy, user_agent, recorder_ext, disable_js, disable_csp, enable_ws, enable_sync, use_auto_ext, undetectable, uc_cdp_events, uc_subprocess, log_cdp_events, no_sandbox, disable_gpu, headless2, incognito, guest_mode, dark_mode, devtools, remote_debug, enable_3d_apis, swiftshader, ad_block_on, block_images, do_not_track, chromium_arg, firefox_arg, firefox_pref, user_data_dir, extension_zip, extension_dir, binary_location, driver_version, page_load_strategy, use_wire, external_pdf, mobile_emulator, device_width, device_height, device_pixel_ratio)\u001b[0m\n\u001b[0;32m   3376\u001b[0m                             )\n\u001b[1;32m-> 3377\u001b[1;33m                             driver = webdriver.Chrome(\n\u001b[0m\u001b[0;32m   3378\u001b[0m                                 \u001b[0mservice\u001b[0m\u001b[1;33m=\u001b[0m\u001b[0mservice\u001b[0m\u001b[1;33m,\u001b[0m\u001b[1;33m\u001b[0m\u001b[1;33m\u001b[0m\u001b[0m\n",
      "\u001b[1;32mc:\\Users\\emili\\anaconda3\\lib\\site-packages\\selenium\\webdriver\\chrome\\webdriver.py\u001b[0m in \u001b[0;36m__init__\u001b[1;34m(self, options, service, keep_alive)\u001b[0m\n\u001b[0;32m     44\u001b[0m \u001b[1;33m\u001b[0m\u001b[0m\n\u001b[1;32m---> 45\u001b[1;33m         super().__init__(\n\u001b[0m\u001b[0;32m     46\u001b[0m             \u001b[0mDesiredCapabilities\u001b[0m\u001b[1;33m.\u001b[0m\u001b[0mCHROME\u001b[0m\u001b[1;33m[\u001b[0m\u001b[1;34m\"browserName\"\u001b[0m\u001b[1;33m]\u001b[0m\u001b[1;33m,\u001b[0m\u001b[1;33m\u001b[0m\u001b[1;33m\u001b[0m\u001b[0m\n",
      "\u001b[1;32mc:\\Users\\emili\\anaconda3\\lib\\site-packages\\selenium\\webdriver\\chromium\\webdriver.py\u001b[0m in \u001b[0;36m__init__\u001b[1;34m(self, browser_name, vendor_prefix, options, service, keep_alive)\u001b[0m\n\u001b[0;32m     55\u001b[0m         \u001b[1;32mtry\u001b[0m\u001b[1;33m:\u001b[0m\u001b[1;33m\u001b[0m\u001b[1;33m\u001b[0m\u001b[0m\n\u001b[1;32m---> 56\u001b[1;33m             super().__init__(\n\u001b[0m\u001b[0;32m     57\u001b[0m                 command_executor=ChromiumRemoteConnection(\n",
      "\u001b[1;32mc:\\Users\\emili\\anaconda3\\lib\\site-packages\\selenium\\webdriver\\remote\\webdriver.py\u001b[0m in \u001b[0;36m__init__\u001b[1;34m(self, command_executor, keep_alive, file_detector, options)\u001b[0m\n\u001b[0;32m    204\u001b[0m         \u001b[0mself\u001b[0m\u001b[1;33m.\u001b[0m\u001b[0mstart_client\u001b[0m\u001b[1;33m(\u001b[0m\u001b[1;33m)\u001b[0m\u001b[1;33m\u001b[0m\u001b[1;33m\u001b[0m\u001b[0m\n\u001b[1;32m--> 205\u001b[1;33m         \u001b[0mself\u001b[0m\u001b[1;33m.\u001b[0m\u001b[0mstart_session\u001b[0m\u001b[1;33m(\u001b[0m\u001b[0mcapabilities\u001b[0m\u001b[1;33m)\u001b[0m\u001b[1;33m\u001b[0m\u001b[1;33m\u001b[0m\u001b[0m\n\u001b[0m\u001b[0;32m    206\u001b[0m \u001b[1;33m\u001b[0m\u001b[0m\n",
      "\u001b[1;32mc:\\Users\\emili\\anaconda3\\lib\\site-packages\\selenium\\webdriver\\remote\\webdriver.py\u001b[0m in \u001b[0;36mstart_session\u001b[1;34m(self, capabilities)\u001b[0m\n\u001b[0;32m    288\u001b[0m         \u001b[0mcaps\u001b[0m \u001b[1;33m=\u001b[0m \u001b[0m_create_caps\u001b[0m\u001b[1;33m(\u001b[0m\u001b[0mcapabilities\u001b[0m\u001b[1;33m)\u001b[0m\u001b[1;33m\u001b[0m\u001b[1;33m\u001b[0m\u001b[0m\n\u001b[1;32m--> 289\u001b[1;33m         \u001b[0mresponse\u001b[0m \u001b[1;33m=\u001b[0m \u001b[0mself\u001b[0m\u001b[1;33m.\u001b[0m\u001b[0mexecute\u001b[0m\u001b[1;33m(\u001b[0m\u001b[0mCommand\u001b[0m\u001b[1;33m.\u001b[0m\u001b[0mNEW_SESSION\u001b[0m\u001b[1;33m,\u001b[0m \u001b[0mcaps\u001b[0m\u001b[1;33m)\u001b[0m\u001b[1;33m[\u001b[0m\u001b[1;34m\"value\"\u001b[0m\u001b[1;33m]\u001b[0m\u001b[1;33m\u001b[0m\u001b[1;33m\u001b[0m\u001b[0m\n\u001b[0m\u001b[0;32m    290\u001b[0m         \u001b[0mself\u001b[0m\u001b[1;33m.\u001b[0m\u001b[0msession_id\u001b[0m \u001b[1;33m=\u001b[0m \u001b[0mresponse\u001b[0m\u001b[1;33m.\u001b[0m\u001b[0mget\u001b[0m\u001b[1;33m(\u001b[0m\u001b[1;34m\"sessionId\"\u001b[0m\u001b[1;33m)\u001b[0m\u001b[1;33m\u001b[0m\u001b[1;33m\u001b[0m\u001b[0m\n",
      "\u001b[1;32mc:\\Users\\emili\\anaconda3\\lib\\site-packages\\selenium\\webdriver\\remote\\webdriver.py\u001b[0m in \u001b[0;36mexecute\u001b[1;34m(self, driver_command, params)\u001b[0m\n\u001b[0;32m    343\u001b[0m         \u001b[1;32mif\u001b[0m \u001b[0mresponse\u001b[0m\u001b[1;33m:\u001b[0m\u001b[1;33m\u001b[0m\u001b[1;33m\u001b[0m\u001b[0m\n\u001b[1;32m--> 344\u001b[1;33m             \u001b[0mself\u001b[0m\u001b[1;33m.\u001b[0m\u001b[0merror_handler\u001b[0m\u001b[1;33m.\u001b[0m\u001b[0mcheck_response\u001b[0m\u001b[1;33m(\u001b[0m\u001b[0mresponse\u001b[0m\u001b[1;33m)\u001b[0m\u001b[1;33m\u001b[0m\u001b[1;33m\u001b[0m\u001b[0m\n\u001b[0m\u001b[0;32m    345\u001b[0m             \u001b[0mresponse\u001b[0m\u001b[1;33m[\u001b[0m\u001b[1;34m\"value\"\u001b[0m\u001b[1;33m]\u001b[0m \u001b[1;33m=\u001b[0m \u001b[0mself\u001b[0m\u001b[1;33m.\u001b[0m\u001b[0m_unwrap_value\u001b[0m\u001b[1;33m(\u001b[0m\u001b[0mresponse\u001b[0m\u001b[1;33m.\u001b[0m\u001b[0mget\u001b[0m\u001b[1;33m(\u001b[0m\u001b[1;34m\"value\"\u001b[0m\u001b[1;33m,\u001b[0m \u001b[1;32mNone\u001b[0m\u001b[1;33m)\u001b[0m\u001b[1;33m)\u001b[0m\u001b[1;33m\u001b[0m\u001b[1;33m\u001b[0m\u001b[0m\n",
      "\u001b[1;32mc:\\Users\\emili\\anaconda3\\lib\\site-packages\\selenium\\webdriver\\remote\\errorhandler.py\u001b[0m in \u001b[0;36mcheck_response\u001b[1;34m(self, response)\u001b[0m\n\u001b[0;32m    228\u001b[0m             \u001b[1;32mraise\u001b[0m \u001b[0mexception_class\u001b[0m\u001b[1;33m(\u001b[0m\u001b[0mmessage\u001b[0m\u001b[1;33m,\u001b[0m \u001b[0mscreen\u001b[0m\u001b[1;33m,\u001b[0m \u001b[0mstacktrace\u001b[0m\u001b[1;33m,\u001b[0m \u001b[0malert_text\u001b[0m\u001b[1;33m)\u001b[0m  \u001b[1;31m# type: ignore[call-arg]  # mypy is not smart enough here\u001b[0m\u001b[1;33m\u001b[0m\u001b[1;33m\u001b[0m\u001b[0m\n\u001b[1;32m--> 229\u001b[1;33m         \u001b[1;32mraise\u001b[0m \u001b[0mexception_class\u001b[0m\u001b[1;33m(\u001b[0m\u001b[0mmessage\u001b[0m\u001b[1;33m,\u001b[0m \u001b[0mscreen\u001b[0m\u001b[1;33m,\u001b[0m \u001b[0mstacktrace\u001b[0m\u001b[1;33m)\u001b[0m\u001b[1;33m\u001b[0m\u001b[1;33m\u001b[0m\u001b[0m\n\u001b[0m",
      "\u001b[1;31mWebDriverException\u001b[0m: Message: unknown error: cannot find Chrome binary\nStacktrace:\n\tGetHandleVerifier [0x00007FF6E1D38EF2+54786]\n\t(No symbol) [0x00007FF6E1CA5612]\n\t(No symbol) [0x00007FF6E1B5A64B]\n\t(No symbol) [0x00007FF6E1B86E08]\n\t(No symbol) [0x00007FF6E1B853BE]\n\t(No symbol) [0x00007FF6E1BC3FBB]\n\t(No symbol) [0x00007FF6E1BC3A30]\n\t(No symbol) [0x00007FF6E1BBBC43]\n\t(No symbol) [0x00007FF6E1B90941]\n\t(No symbol) [0x00007FF6E1B91B84]\n\tGetHandleVerifier [0x00007FF6E2087F52+3524194]\n\tGetHandleVerifier [0x00007FF6E20DD800+3874576]\n\tGetHandleVerifier [0x00007FF6E20D5D7F+3843215]\n\tGetHandleVerifier [0x00007FF6E1DD5086+694166]\n\t(No symbol) [0x00007FF6E1CB0A88]\n\t(No symbol) [0x00007FF6E1CACA94]\n\t(No symbol) [0x00007FF6E1CACBC2]\n\t(No symbol) [0x00007FF6E1C9CC83]\n\tBaseThreadInitThunk [0x00007FF9C0EE257D+29]\n\tRtlUserThreadStart [0x00007FF9C266AA78+40]\n",
      "\nDuring handling of the above exception, another exception occurred:\n",
      "\u001b[1;31mWebDriverException\u001b[0m                        Traceback (most recent call last)",
      "\u001b[1;32m~\\AppData\\Local\\Temp\\ipykernel_30012\\3075829503.py\u001b[0m in \u001b[0;36m<module>\u001b[1;34m\u001b[0m\n\u001b[0;32m      1\u001b[0m \u001b[1;32mfrom\u001b[0m \u001b[0mseleniumbase\u001b[0m \u001b[1;32mimport\u001b[0m \u001b[0mDriver\u001b[0m\u001b[1;33m\u001b[0m\u001b[1;33m\u001b[0m\u001b[0m\n\u001b[0;32m      2\u001b[0m \u001b[1;33m\u001b[0m\u001b[0m\n\u001b[1;32m----> 3\u001b[1;33m \u001b[0mdriver\u001b[0m \u001b[1;33m=\u001b[0m \u001b[0mDriver\u001b[0m\u001b[1;33m(\u001b[0m\u001b[0mbrowser\u001b[0m\u001b[1;33m=\u001b[0m\u001b[1;34m\"chrome\"\u001b[0m\u001b[1;33m)\u001b[0m\u001b[1;33m\u001b[0m\u001b[1;33m\u001b[0m\u001b[0m\n\u001b[0m\u001b[0;32m      4\u001b[0m \u001b[0mdriver\u001b[0m\u001b[1;33m.\u001b[0m\u001b[0mget\u001b[0m\u001b[1;33m(\u001b[0m\u001b[1;34m\"https://www.selenium.dev/\"\u001b[0m\u001b[1;33m)\u001b[0m\u001b[1;33m\u001b[0m\u001b[1;33m\u001b[0m\u001b[0m\n\u001b[0;32m      5\u001b[0m \u001b[1;33m\u001b[0m\u001b[0m\n",
      "\u001b[1;32mc:\\Users\\emili\\anaconda3\\lib\\site-packages\\seleniumbase\\plugins\\driver_manager.py\u001b[0m in \u001b[0;36mDriver\u001b[1;34m(browser, headless, headless2, headed, locale_code, protocol, servername, port, proxy, proxy_bypass_list, proxy_pac_url, multi_proxy, agent, cap_file, cap_string, recorder_ext, disable_js, disable_csp, enable_ws, disable_ws, enable_sync, use_auto_ext, undetectable, uc_cdp_events, uc_subprocess, log_cdp_events, no_sandbox, disable_gpu, incognito, guest_mode, dark_mode, devtools, remote_debug, enable_3d_apis, swiftshader, ad_block_on, block_images, do_not_track, chromium_arg, firefox_arg, firefox_pref, user_data_dir, extension_zip, extension_dir, binary_location, driver_version, page_load_strategy, use_wire, external_pdf, is_mobile, mobile, d_width, d_height, d_p_r, uc, undetected, uc_cdp, uc_sub, log_cdp, wire, pls)\u001b[0m\n\u001b[0;32m    451\u001b[0m     \u001b[1;32mfrom\u001b[0m \u001b[0mseleniumbase\u001b[0m\u001b[1;33m.\u001b[0m\u001b[0mcore\u001b[0m \u001b[1;32mimport\u001b[0m \u001b[0mbrowser_launcher\u001b[0m\u001b[1;33m\u001b[0m\u001b[1;33m\u001b[0m\u001b[0m\n\u001b[0;32m    452\u001b[0m \u001b[1;33m\u001b[0m\u001b[0m\n\u001b[1;32m--> 453\u001b[1;33m     driver = browser_launcher.get_driver(\n\u001b[0m\u001b[0;32m    454\u001b[0m         \u001b[0mbrowser_name\u001b[0m\u001b[1;33m=\u001b[0m\u001b[0mbrowser_name\u001b[0m\u001b[1;33m,\u001b[0m\u001b[1;33m\u001b[0m\u001b[1;33m\u001b[0m\u001b[0m\n\u001b[0;32m    455\u001b[0m         \u001b[0mheadless\u001b[0m\u001b[1;33m=\u001b[0m\u001b[0mheadless\u001b[0m\u001b[1;33m,\u001b[0m\u001b[1;33m\u001b[0m\u001b[1;33m\u001b[0m\u001b[0m\n",
      "\u001b[1;32mc:\\Users\\emili\\anaconda3\\lib\\site-packages\\seleniumbase\\core\\browser_launcher.py\u001b[0m in \u001b[0;36mget_driver\u001b[1;34m(browser_name, headless, locale_code, use_grid, protocol, servername, port, proxy_string, proxy_bypass_list, proxy_pac_url, multi_proxy, user_agent, cap_file, cap_string, recorder_ext, disable_js, disable_csp, enable_ws, enable_sync, use_auto_ext, undetectable, uc_cdp_events, uc_subprocess, log_cdp_events, no_sandbox, disable_gpu, headless2, incognito, guest_mode, dark_mode, devtools, remote_debug, enable_3d_apis, swiftshader, ad_block_on, block_images, do_not_track, chromium_arg, firefox_arg, firefox_pref, user_data_dir, extension_zip, extension_dir, binary_location, driver_version, page_load_strategy, use_wire, external_pdf, test_id, mobile_emulator, device_width, device_height, device_pixel_ratio, browser)\u001b[0m\n\u001b[0;32m   1512\u001b[0m         )\n\u001b[0;32m   1513\u001b[0m     \u001b[1;32melse\u001b[0m\u001b[1;33m:\u001b[0m\u001b[1;33m\u001b[0m\u001b[1;33m\u001b[0m\u001b[0m\n\u001b[1;32m-> 1514\u001b[1;33m         return get_local_driver(\n\u001b[0m\u001b[0;32m   1515\u001b[0m             \u001b[0mbrowser_name\u001b[0m\u001b[1;33m,\u001b[0m\u001b[1;33m\u001b[0m\u001b[1;33m\u001b[0m\u001b[0m\n\u001b[0;32m   1516\u001b[0m             \u001b[0mheadless\u001b[0m\u001b[1;33m,\u001b[0m\u001b[1;33m\u001b[0m\u001b[1;33m\u001b[0m\u001b[0m\n",
      "\u001b[1;32mc:\\Users\\emili\\anaconda3\\lib\\site-packages\\seleniumbase\\core\\browser_launcher.py\u001b[0m in \u001b[0;36mget_local_driver\u001b[1;34m(browser_name, headless, locale_code, servername, proxy_string, proxy_auth, proxy_user, proxy_pass, proxy_bypass_list, proxy_pac_url, multi_proxy, user_agent, recorder_ext, disable_js, disable_csp, enable_ws, enable_sync, use_auto_ext, undetectable, uc_cdp_events, uc_subprocess, log_cdp_events, no_sandbox, disable_gpu, headless2, incognito, guest_mode, dark_mode, devtools, remote_debug, enable_3d_apis, swiftshader, ad_block_on, block_images, do_not_track, chromium_arg, firefox_arg, firefox_pref, user_data_dir, extension_zip, extension_dir, binary_location, driver_version, page_load_strategy, use_wire, external_pdf, mobile_emulator, device_width, device_height, device_pixel_ratio)\u001b[0m\n\u001b[0;32m   3678\u001b[0m                 \u001b[0mservice_args\u001b[0m\u001b[1;33m=\u001b[0m\u001b[1;33m[\u001b[0m\u001b[1;34m\"--disable-build-check\"\u001b[0m\u001b[1;33m]\u001b[0m\u001b[1;33m\u001b[0m\u001b[1;33m\u001b[0m\u001b[0m\n\u001b[0;32m   3679\u001b[0m             )\n\u001b[1;32m-> 3680\u001b[1;33m             \u001b[0mdriver\u001b[0m \u001b[1;33m=\u001b[0m \u001b[0mwebdriver\u001b[0m\u001b[1;33m.\u001b[0m\u001b[0mChrome\u001b[0m\u001b[1;33m(\u001b[0m\u001b[0mservice\u001b[0m\u001b[1;33m=\u001b[0m\u001b[0mservice\u001b[0m\u001b[1;33m)\u001b[0m\u001b[1;33m\u001b[0m\u001b[1;33m\u001b[0m\u001b[0m\n\u001b[0m\u001b[0;32m   3681\u001b[0m             \u001b[1;32mreturn\u001b[0m \u001b[0mextend_driver\u001b[0m\u001b[1;33m(\u001b[0m\u001b[0mdriver\u001b[0m\u001b[1;33m)\u001b[0m\u001b[1;33m\u001b[0m\u001b[1;33m\u001b[0m\u001b[0m\n\u001b[0;32m   3682\u001b[0m     \u001b[1;32melse\u001b[0m\u001b[1;33m:\u001b[0m\u001b[1;33m\u001b[0m\u001b[1;33m\u001b[0m\u001b[0m\n",
      "\u001b[1;32mc:\\Users\\emili\\anaconda3\\lib\\site-packages\\selenium\\webdriver\\chrome\\webdriver.py\u001b[0m in \u001b[0;36m__init__\u001b[1;34m(self, options, service, keep_alive)\u001b[0m\n\u001b[0;32m     43\u001b[0m         \u001b[0moptions\u001b[0m \u001b[1;33m=\u001b[0m \u001b[0moptions\u001b[0m \u001b[1;32mif\u001b[0m \u001b[0moptions\u001b[0m \u001b[1;32melse\u001b[0m \u001b[0mOptions\u001b[0m\u001b[1;33m(\u001b[0m\u001b[1;33m)\u001b[0m\u001b[1;33m\u001b[0m\u001b[1;33m\u001b[0m\u001b[0m\n\u001b[0;32m     44\u001b[0m \u001b[1;33m\u001b[0m\u001b[0m\n\u001b[1;32m---> 45\u001b[1;33m         super().__init__(\n\u001b[0m\u001b[0;32m     46\u001b[0m             \u001b[0mDesiredCapabilities\u001b[0m\u001b[1;33m.\u001b[0m\u001b[0mCHROME\u001b[0m\u001b[1;33m[\u001b[0m\u001b[1;34m\"browserName\"\u001b[0m\u001b[1;33m]\u001b[0m\u001b[1;33m,\u001b[0m\u001b[1;33m\u001b[0m\u001b[1;33m\u001b[0m\u001b[0m\n\u001b[0;32m     47\u001b[0m             \u001b[1;34m\"goog\"\u001b[0m\u001b[1;33m,\u001b[0m\u001b[1;33m\u001b[0m\u001b[1;33m\u001b[0m\u001b[0m\n",
      "\u001b[1;32mc:\\Users\\emili\\anaconda3\\lib\\site-packages\\selenium\\webdriver\\chromium\\webdriver.py\u001b[0m in \u001b[0;36m__init__\u001b[1;34m(self, browser_name, vendor_prefix, options, service, keep_alive)\u001b[0m\n\u001b[0;32m     54\u001b[0m \u001b[1;33m\u001b[0m\u001b[0m\n\u001b[0;32m     55\u001b[0m         \u001b[1;32mtry\u001b[0m\u001b[1;33m:\u001b[0m\u001b[1;33m\u001b[0m\u001b[1;33m\u001b[0m\u001b[0m\n\u001b[1;32m---> 56\u001b[1;33m             super().__init__(\n\u001b[0m\u001b[0;32m     57\u001b[0m                 command_executor=ChromiumRemoteConnection(\n\u001b[0;32m     58\u001b[0m                     \u001b[0mremote_server_addr\u001b[0m\u001b[1;33m=\u001b[0m\u001b[0mself\u001b[0m\u001b[1;33m.\u001b[0m\u001b[0mservice\u001b[0m\u001b[1;33m.\u001b[0m\u001b[0mservice_url\u001b[0m\u001b[1;33m,\u001b[0m\u001b[1;33m\u001b[0m\u001b[1;33m\u001b[0m\u001b[0m\n",
      "\u001b[1;32mc:\\Users\\emili\\anaconda3\\lib\\site-packages\\selenium\\webdriver\\remote\\webdriver.py\u001b[0m in \u001b[0;36m__init__\u001b[1;34m(self, command_executor, keep_alive, file_detector, options)\u001b[0m\n\u001b[0;32m    203\u001b[0m         \u001b[0mself\u001b[0m\u001b[1;33m.\u001b[0m\u001b[0m_authenticator_id\u001b[0m \u001b[1;33m=\u001b[0m \u001b[1;32mNone\u001b[0m\u001b[1;33m\u001b[0m\u001b[1;33m\u001b[0m\u001b[0m\n\u001b[0;32m    204\u001b[0m         \u001b[0mself\u001b[0m\u001b[1;33m.\u001b[0m\u001b[0mstart_client\u001b[0m\u001b[1;33m(\u001b[0m\u001b[1;33m)\u001b[0m\u001b[1;33m\u001b[0m\u001b[1;33m\u001b[0m\u001b[0m\n\u001b[1;32m--> 205\u001b[1;33m         \u001b[0mself\u001b[0m\u001b[1;33m.\u001b[0m\u001b[0mstart_session\u001b[0m\u001b[1;33m(\u001b[0m\u001b[0mcapabilities\u001b[0m\u001b[1;33m)\u001b[0m\u001b[1;33m\u001b[0m\u001b[1;33m\u001b[0m\u001b[0m\n\u001b[0m\u001b[0;32m    206\u001b[0m \u001b[1;33m\u001b[0m\u001b[0m\n\u001b[0;32m    207\u001b[0m     \u001b[1;32mdef\u001b[0m \u001b[0m__repr__\u001b[0m\u001b[1;33m(\u001b[0m\u001b[0mself\u001b[0m\u001b[1;33m)\u001b[0m\u001b[1;33m:\u001b[0m\u001b[1;33m\u001b[0m\u001b[1;33m\u001b[0m\u001b[0m\n",
      "\u001b[1;32mc:\\Users\\emili\\anaconda3\\lib\\site-packages\\selenium\\webdriver\\remote\\webdriver.py\u001b[0m in \u001b[0;36mstart_session\u001b[1;34m(self, capabilities)\u001b[0m\n\u001b[0;32m    287\u001b[0m \u001b[1;33m\u001b[0m\u001b[0m\n\u001b[0;32m    288\u001b[0m         \u001b[0mcaps\u001b[0m \u001b[1;33m=\u001b[0m \u001b[0m_create_caps\u001b[0m\u001b[1;33m(\u001b[0m\u001b[0mcapabilities\u001b[0m\u001b[1;33m)\u001b[0m\u001b[1;33m\u001b[0m\u001b[1;33m\u001b[0m\u001b[0m\n\u001b[1;32m--> 289\u001b[1;33m         \u001b[0mresponse\u001b[0m \u001b[1;33m=\u001b[0m \u001b[0mself\u001b[0m\u001b[1;33m.\u001b[0m\u001b[0mexecute\u001b[0m\u001b[1;33m(\u001b[0m\u001b[0mCommand\u001b[0m\u001b[1;33m.\u001b[0m\u001b[0mNEW_SESSION\u001b[0m\u001b[1;33m,\u001b[0m \u001b[0mcaps\u001b[0m\u001b[1;33m)\u001b[0m\u001b[1;33m[\u001b[0m\u001b[1;34m\"value\"\u001b[0m\u001b[1;33m]\u001b[0m\u001b[1;33m\u001b[0m\u001b[1;33m\u001b[0m\u001b[0m\n\u001b[0m\u001b[0;32m    290\u001b[0m         \u001b[0mself\u001b[0m\u001b[1;33m.\u001b[0m\u001b[0msession_id\u001b[0m \u001b[1;33m=\u001b[0m \u001b[0mresponse\u001b[0m\u001b[1;33m.\u001b[0m\u001b[0mget\u001b[0m\u001b[1;33m(\u001b[0m\u001b[1;34m\"sessionId\"\u001b[0m\u001b[1;33m)\u001b[0m\u001b[1;33m\u001b[0m\u001b[1;33m\u001b[0m\u001b[0m\n\u001b[0;32m    291\u001b[0m         \u001b[0mself\u001b[0m\u001b[1;33m.\u001b[0m\u001b[0mcaps\u001b[0m \u001b[1;33m=\u001b[0m \u001b[0mresponse\u001b[0m\u001b[1;33m.\u001b[0m\u001b[0mget\u001b[0m\u001b[1;33m(\u001b[0m\u001b[1;34m\"capabilities\"\u001b[0m\u001b[1;33m)\u001b[0m\u001b[1;33m\u001b[0m\u001b[1;33m\u001b[0m\u001b[0m\n",
      "\u001b[1;32mc:\\Users\\emili\\anaconda3\\lib\\site-packages\\selenium\\webdriver\\remote\\webdriver.py\u001b[0m in \u001b[0;36mexecute\u001b[1;34m(self, driver_command, params)\u001b[0m\n\u001b[0;32m    342\u001b[0m         \u001b[0mresponse\u001b[0m \u001b[1;33m=\u001b[0m \u001b[0mself\u001b[0m\u001b[1;33m.\u001b[0m\u001b[0mcommand_executor\u001b[0m\u001b[1;33m.\u001b[0m\u001b[0mexecute\u001b[0m\u001b[1;33m(\u001b[0m\u001b[0mdriver_command\u001b[0m\u001b[1;33m,\u001b[0m \u001b[0mparams\u001b[0m\u001b[1;33m)\u001b[0m\u001b[1;33m\u001b[0m\u001b[1;33m\u001b[0m\u001b[0m\n\u001b[0;32m    343\u001b[0m         \u001b[1;32mif\u001b[0m \u001b[0mresponse\u001b[0m\u001b[1;33m:\u001b[0m\u001b[1;33m\u001b[0m\u001b[1;33m\u001b[0m\u001b[0m\n\u001b[1;32m--> 344\u001b[1;33m             \u001b[0mself\u001b[0m\u001b[1;33m.\u001b[0m\u001b[0merror_handler\u001b[0m\u001b[1;33m.\u001b[0m\u001b[0mcheck_response\u001b[0m\u001b[1;33m(\u001b[0m\u001b[0mresponse\u001b[0m\u001b[1;33m)\u001b[0m\u001b[1;33m\u001b[0m\u001b[1;33m\u001b[0m\u001b[0m\n\u001b[0m\u001b[0;32m    345\u001b[0m             \u001b[0mresponse\u001b[0m\u001b[1;33m[\u001b[0m\u001b[1;34m\"value\"\u001b[0m\u001b[1;33m]\u001b[0m \u001b[1;33m=\u001b[0m \u001b[0mself\u001b[0m\u001b[1;33m.\u001b[0m\u001b[0m_unwrap_value\u001b[0m\u001b[1;33m(\u001b[0m\u001b[0mresponse\u001b[0m\u001b[1;33m.\u001b[0m\u001b[0mget\u001b[0m\u001b[1;33m(\u001b[0m\u001b[1;34m\"value\"\u001b[0m\u001b[1;33m,\u001b[0m \u001b[1;32mNone\u001b[0m\u001b[1;33m)\u001b[0m\u001b[1;33m)\u001b[0m\u001b[1;33m\u001b[0m\u001b[1;33m\u001b[0m\u001b[0m\n\u001b[0;32m    346\u001b[0m             \u001b[1;32mreturn\u001b[0m \u001b[0mresponse\u001b[0m\u001b[1;33m\u001b[0m\u001b[1;33m\u001b[0m\u001b[0m\n",
      "\u001b[1;32mc:\\Users\\emili\\anaconda3\\lib\\site-packages\\selenium\\webdriver\\remote\\errorhandler.py\u001b[0m in \u001b[0;36mcheck_response\u001b[1;34m(self, response)\u001b[0m\n\u001b[0;32m    227\u001b[0m                 \u001b[0malert_text\u001b[0m \u001b[1;33m=\u001b[0m \u001b[0mvalue\u001b[0m\u001b[1;33m[\u001b[0m\u001b[1;34m\"alert\"\u001b[0m\u001b[1;33m]\u001b[0m\u001b[1;33m.\u001b[0m\u001b[0mget\u001b[0m\u001b[1;33m(\u001b[0m\u001b[1;34m\"text\"\u001b[0m\u001b[1;33m)\u001b[0m\u001b[1;33m\u001b[0m\u001b[1;33m\u001b[0m\u001b[0m\n\u001b[0;32m    228\u001b[0m             \u001b[1;32mraise\u001b[0m \u001b[0mexception_class\u001b[0m\u001b[1;33m(\u001b[0m\u001b[0mmessage\u001b[0m\u001b[1;33m,\u001b[0m \u001b[0mscreen\u001b[0m\u001b[1;33m,\u001b[0m \u001b[0mstacktrace\u001b[0m\u001b[1;33m,\u001b[0m \u001b[0malert_text\u001b[0m\u001b[1;33m)\u001b[0m  \u001b[1;31m# type: ignore[call-arg]  # mypy is not smart enough here\u001b[0m\u001b[1;33m\u001b[0m\u001b[1;33m\u001b[0m\u001b[0m\n\u001b[1;32m--> 229\u001b[1;33m         \u001b[1;32mraise\u001b[0m \u001b[0mexception_class\u001b[0m\u001b[1;33m(\u001b[0m\u001b[0mmessage\u001b[0m\u001b[1;33m,\u001b[0m \u001b[0mscreen\u001b[0m\u001b[1;33m,\u001b[0m \u001b[0mstacktrace\u001b[0m\u001b[1;33m)\u001b[0m\u001b[1;33m\u001b[0m\u001b[1;33m\u001b[0m\u001b[0m\n\u001b[0m",
      "\u001b[1;31mWebDriverException\u001b[0m: Message: unknown error: cannot find Chrome binary\nStacktrace:\n\tGetHandleVerifier [0x00007FF6E1D38EF2+54786]\n\t(No symbol) [0x00007FF6E1CA5612]\n\t(No symbol) [0x00007FF6E1B5A64B]\n\t(No symbol) [0x00007FF6E1B86E08]\n\t(No symbol) [0x00007FF6E1B853BE]\n\t(No symbol) [0x00007FF6E1BC3FBB]\n\t(No symbol) [0x00007FF6E1BC3A30]\n\t(No symbol) [0x00007FF6E1BBBC43]\n\t(No symbol) [0x00007FF6E1B90941]\n\t(No symbol) [0x00007FF6E1B91B84]\n\tGetHandleVerifier [0x00007FF6E2087F52+3524194]\n\tGetHandleVerifier [0x00007FF6E20DD800+3874576]\n\tGetHandleVerifier [0x00007FF6E20D5D7F+3843215]\n\tGetHandleVerifier [0x00007FF6E1DD5086+694166]\n\t(No symbol) [0x00007FF6E1CB0A88]\n\t(No symbol) [0x00007FF6E1CACA94]\n\t(No symbol) [0x00007FF6E1CACBC2]\n\t(No symbol) [0x00007FF6E1C9CC83]\n\tBaseThreadInitThunk [0x00007FF9C0EE257D+29]\n\tRtlUserThreadStart [0x00007FF9C266AA78+40]\n"
     ]
    }
   ],
   "source": [
    "from seleniumbase import Driver\n",
    "\n",
    "driver = Driver(browser=\"chrome\")\n",
    "driver.get(\"https://www.selenium.dev/\")\n",
    "\n",
    "print(driver.title)\n",
    "\n",
    "driver.quit()"
   ]
  },
  {
   "cell_type": "code",
   "execution_count": null,
   "metadata": {},
   "outputs": [],
   "source": [
    "from selenium import webdriver\n",
    "from selenium.webdriver.chrome.service import Service\n",
    "\n",
    "service = Service()\n",
    "options = webdriver.ChromeOptions()\n",
    "driver = webdriver.Chrome(service=service, options=options)\n",
    "# ...\n",
    "driver.quit()\n"
   ]
  },
  {
   "cell_type": "code",
   "execution_count": 11,
   "metadata": {},
   "outputs": [
    {
     "ename": "NameError",
     "evalue": "name 'webdriver' is not defined",
     "output_type": "error",
     "traceback": [
      "\u001b[1;31m---------------------------------------------------------------------------\u001b[0m",
      "\u001b[1;31mNameError\u001b[0m                                 Traceback (most recent call last)",
      "\u001b[1;32mc:\\Users\\emili\\Documents\\GitHub\\Bongo.IO\\Queries\\scraper.ipynb Cell 6\u001b[0m line \u001b[0;36m9\n\u001b[0;32m      <a href='vscode-notebook-cell:/c%3A/Users/emili/Documents/GitHub/Bongo.IO/Queries/scraper.ipynb#X10sZmlsZQ%3D%3D?line=5'>6</a>\u001b[0m joe\u001b[39m.\u001b[39mscrape(headers\u001b[39m=\u001b[39mheaders)\n\u001b[0;32m      <a href='vscode-notebook-cell:/c%3A/Users/emili/Documents/GitHub/Bongo.IO/Queries/scraper.ipynb#X10sZmlsZQ%3D%3D?line=7'>8</a>\u001b[0m \u001b[39m# Scraping the posts\u001b[39;00m\n\u001b[1;32m----> <a href='vscode-notebook-cell:/c%3A/Users/emili/Documents/GitHub/Bongo.IO/Queries/scraper.ipynb#X10sZmlsZQ%3D%3D?line=8'>9</a>\u001b[0m posts \u001b[39m=\u001b[39m joe\u001b[39m.\u001b[39mget_posts(webdriver\u001b[39m=\u001b[39mwebdriver, login_first\u001b[39m=\u001b[39m\u001b[39mTrue\u001b[39;00m)\n\u001b[0;32m     <a href='vscode-notebook-cell:/c%3A/Users/emili/Documents/GitHub/Bongo.IO/Queries/scraper.ipynb#X10sZmlsZQ%3D%3D?line=9'>10</a>\u001b[0m scraped, unscraped \u001b[39m=\u001b[39m scrape_posts(posts, silent\u001b[39m=\u001b[39m\u001b[39mFalse\u001b[39;00m, headers\u001b[39m=\u001b[39mheaders, pause\u001b[39m=\u001b[39m\u001b[39m10\u001b[39m)\n",
      "\u001b[1;31mNameError\u001b[0m: name 'webdriver' is not defined"
     ]
    }
   ],
   "source": [
    "# Scraping Joe Biden's profile\n",
    "SESSIONID = '631450462%3AHOtTOICizHBxYw%3A2%3AAYcEIaZNi9JvY2qc0nwaPsHl0yz0ZLM16hJ38DcZdw'\n",
    "headers = {\"user-agent\": \"Mozilla/5.0 (Linux; Android 6.0; Nexus 5 Build/MRA58N) AppleWebKit/537.36 (KHTML, like Gecko) Chrome/87.0.4280.88 Mobile Safari/537.36 Edg/87.0.664.57\",\n",
    "           \"cookie\": f\"sessionid={SESSIONID};\"}\n",
    "joe = Profile(\"joebiden\")\n",
    "joe.scrape(headers=headers)\n",
    "\n",
    "# Scraping the posts\n",
    "posts = joe.get_posts(webdriver=webdriver, login_first=True)\n",
    "scraped, unscraped = scrape_posts(posts, silent=False, headers=headers, pause=10)"
   ]
  },
  {
   "cell_type": "code",
   "execution_count": 5,
   "metadata": {},
   "outputs": [
    {
     "name": "stderr",
     "output_type": "stream",
     "text": [
      "c:\\Users\\emili\\anaconda3\\envs\\environment_name\\lib\\site-packages\\instascrape\\core\\_static_scraper.py:134: MissingCookiesWarning: Request header does not contain cookies! It's recommended you pass at least a valid sessionid otherwise Instagram will likely redirect you to their login page.\n",
      "  warnings.warn(\n"
     ]
    },
    {
     "name": "stdout",
     "output_type": "stream",
     "text": [
      "nan\n"
     ]
    }
   ],
   "source": [
    "profile = Profile('chris_greening')\n",
    "profile.scrape()\n",
    "\n",
    "print(profile.followers)"
   ]
  }
 ],
 "metadata": {
  "kernelspec": {
   "display_name": "environment_name",
   "language": "python",
   "name": "python3"
  },
  "language_info": {
   "codemirror_mode": {
    "name": "ipython",
    "version": 3
   },
   "file_extension": ".py",
   "mimetype": "text/x-python",
   "name": "python",
   "nbconvert_exporter": "python",
   "pygments_lexer": "ipython3",
   "version": "3.9.13"
  }
 },
 "nbformat": 4,
 "nbformat_minor": 2
}
