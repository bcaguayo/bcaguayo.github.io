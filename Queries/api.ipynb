{
 "cells": [
  {
   "cell_type": "code",
   "execution_count": 1,
   "metadata": {},
   "outputs": [
    {
     "name": "stdout",
     "output_type": "stream",
     "text": [
      "Hello World!\n"
     ]
    }
   ],
   "source": [
    "print(\"Hello World!\")"
   ]
  },
  {
   "cell_type": "code",
   "execution_count": 1,
   "metadata": {},
   "outputs": [],
   "source": [
    "import requests"
   ]
  },
  {
   "cell_type": "code",
   "execution_count": 2,
   "metadata": {},
   "outputs": [],
   "source": [
    "api_url = \"https://en.wikipedia.org/w/api.php\"\n",
    "\n",
    "params = {\n",
    "    \"action\": \"query\",\n",
    "    \"format\": \"json\",\n",
    "    \"list\": \"random\",\n",
    "}"
   ]
  },
  {
   "cell_type": "code",
   "execution_count": 3,
   "metadata": {},
   "outputs": [
    {
     "name": "stdout",
     "output_type": "stream",
     "text": [
      "{'batchcomplete': '', 'continue': {'rncontinue': '0.130580721880|0.130580807629|13643221|0', 'continue': '-||'}, 'query': {'random': [{'id': 30558962, 'ns': 0, 'title': 'List of islands of New Hampshire'}]}}\n"
     ]
    }
   ],
   "source": [
    "response = requests.get(api_url, params=params)\n",
    "\n",
    "print(response.json())"
   ]
  },
  {
   "cell_type": "code",
   "execution_count": null,
   "metadata": {},
   "outputs": [],
   "source": [
    "%pip install wikipedia\n",
    "%pip install mwviews\n",
    "%pip install wikipedia-api"
   ]
  },
  {
   "cell_type": "code",
   "execution_count": 14,
   "metadata": {},
   "outputs": [
    {
     "name": "stdout",
     "output_type": "stream",
     "text": [
      "['Derventio', 'Scythris valvaerimella', 'Georgia Southwestern State University', 'Ebsdorfergrund', 'Monkey Point', 'Controller (song)', 'Lemithou', 'Shrichand Bajaj', 'Tid för tystnad', 'Ledčice']\n"
     ]
    }
   ],
   "source": [
    "import wikipedia\n",
    "import wikipediaapi\n",
    "from mwviews.api import PageviewsClient"
   ]
  },
  {
   "cell_type": "code",
   "execution_count": 35,
   "metadata": {},
   "outputs": [
    {
     "name": "stdout",
     "output_type": "stream",
     "text": [
      "['Understanding The Lord of the Rings', 'LaDontae Henton', 'Wildcat Creek (Kansas River tributary)', 'Tiruchotruturai', 'Jean-Baptiste Olivier', 'William Hervey (British Army officer)', 'Gandhi Mandela Awards', 'Gafsheh-ye Lasht-e Nesha Rural District', 'RAF Hamworthy', 'Peachoid', 'Bob Marshall (footballer)', 'Homoerotic poetry', 'List of Colchester United F.C. players', 'Christophe Dussart', 'Lorentz Dietrichson', 'Vivek Mushran', 'Beaufortia micrantha', 'T. S. Sathyavathi', 'Karen Dokka', 'Kim Tae-woo (wrestler)', 'Roquetaillade-et-Conilhac', 'Newry Canal', 'Ghalibaf', 'R-23 regional road (Montenegro)', 'Arnulf I', 'Geoffrey Chukwunenye', '1986 Norwegian Football Cup', 'Nelson Gabolwelwe', 'Florianópolis', 'Legislature broadcasters in New Zealand', 'White-tailed crested flycatcher', 'List of Yume no Crayon Oukoku characters', 'Kobayashi Maru', 'Ruwenzori horseshoe bat', 'Coming Soon (2014 film)', 'Great Mosque of Porto-Novo', 'Jens Thomas Arnfred', 'Bourne Cricket Club', 'Erich Consemüller', 'Alberto Porta y Muñoz', 'Vempadu, Eluru district', '1952 Railway Cup Hurling Championship', 'Monterozzi necropolis', 'Lachgar', 'Hole-board test', 'Angelus Oaks, California', 'Mariko Bando', 'Mikaile Tmušić', 'Biščević', 'Michael Poghosyan', 'Mambetkulovo', 'Thalwil railway station', 'Käte Schaller-Härlin', 'Bardoux', 'Lange (surname)', 'Lewis Eisenberg', 'KQEO', 'Tariff of Abominations', 'Yone Suzuki', 'Ocean Dunes High School', \"St. John's IceCaps\", 'Al \"Carnival Time\" Johnson', 'Raising Hell (book)', 'List of Serbs of Croatia', \"It's a Grand Old World\", 'Church of the Holy Spirit, Bratislava', 'Oona Cliff', 'List of number-one singles of 1985 (Canada)', 'Michael Larsen (footballer)', 'Głotowo', 'Honour Sabre of the Awakened Lion', 'Bolandra californica', '165th New York Infantry Regiment', 'Yenice, Çanakkale', 'Operation Defensive Shield', 'Triumph Township', 'High Commission of Antigua and Barbuda, London', '2014 United States state legislative elections', 'Marvel Ekpiteta', 'Battalia (moth)', 'Francisco Ximénez', 'Sandra Khopon', 'Jamal Shuler', '2016 Exeter Sevens', 'Xylophanes epaphus', 'Oscar Rackle', 'Chris Cormier', 'Andrew Laine', 'Telicota mesoptis', 'Khvoresht', 'Komlan Agbégniadan', 'Niner (bicycle company)', 'Central Statistics Office (Ireland)', 'Badruddoza Ahmed Shuja', 'Registrar General of Canada', 'Sabit Lulo', 'Danylo Safonov', 'Grave dwellers', 'Long Creek Academy', 'Art Tallackson']\n"
     ]
    }
   ],
   "source": [
    "randomPages = wikipedia.random(pages=100)\n",
    "print(randomPages)"
   ]
  },
  {
   "cell_type": "code",
   "execution_count": 36,
   "metadata": {},
   "outputs": [
    {
     "name": "stdout",
     "output_type": "stream",
     "text": [
      "Triumph_Township 13\n"
     ]
    }
   ],
   "source": [
    "client = PageviewsClient(user_agent=\"hi@elan.place random wiki pages\")\n",
    "\n",
    "start = '20190101'\n",
    "end = '20190131'\n",
    "views = client.article_views('en.wikipedia', randomPages, granularity='monthly', start=start, end=end)\n",
    "\n",
    "# print(views)\n",
    "\n",
    "viewsDictionary = list(views.values())[0]\n",
    "\n",
    "minViews = float('inf')\n",
    "minArticle = ''\n",
    "\n",
    "for article, viewsCount in viewsDictionary.items():\n",
    "    if viewsCount is not None and viewsCount < minViews:\n",
    "        minViews = viewsCount\n",
    "        minArticle = article\n",
    "\n",
    "print(minArticle, minViews)"
   ]
  },
  {
   "cell_type": "code",
   "execution_count": 29,
   "metadata": {},
   "outputs": [
    {
     "name": "stdout",
     "output_type": "stream",
     "text": [
      "{'St_Mary_the_Virgin,_Hemingbrough': None, 'Standard_Insurance_Company': 59051, 'Summer_Heat_(2008_film)': 244, 'Sgoth': 229, 'SH3GL3': 107, 'International_Day_of_Sign_Languages': 287, 'Thomas_Fung': 451, 'The_Mother_of_Exiles': None, 'Call_Cobbs_Jr.': 121, 'Radical_Evolution': 192}\n"
     ]
    }
   ],
   "source": [
    "print(viewsDictionary)"
   ]
  },
  {
   "cell_type": "code",
   "execution_count": 37,
   "metadata": {},
   "outputs": [
    {
     "name": "stdout",
     "output_type": "stream",
     "text": [
      "Triumph Township may refer to one of the following places in the United States:\n",
      "\n",
      "Triumph Township, Custer County, Nebraska\n",
      "Triumph Township, Ramsey County, North Dakota\n",
      "Triumph Township, Warren County, PennsylvaniaSee also\n",
      "Triumph (disambiguation)\n",
      "https://en.wikipedia.org/wiki/Triumph_Township\n"
     ]
    }
   ],
   "source": [
    "agent = \"hi@elan.place random wiki pages\"\n",
    "\n",
    "wiki = wikipediaapi.Wikipedia(agent, 'en')\n",
    "page = wiki.page(minArticle)\n",
    "\n",
    "print(page.summary)\n",
    "print(page.fullurl)"
   ]
  }
 ],
 "metadata": {
  "kernelspec": {
   "display_name": "environment_name",
   "language": "python",
   "name": "python3"
  },
  "language_info": {
   "codemirror_mode": {
    "name": "ipython",
    "version": 3
   },
   "file_extension": ".py",
   "mimetype": "text/x-python",
   "name": "python",
   "nbconvert_exporter": "python",
   "pygments_lexer": "ipython3",
   "version": "3.10.9"
  }
 },
 "nbformat": 4,
 "nbformat_minor": 2
}
