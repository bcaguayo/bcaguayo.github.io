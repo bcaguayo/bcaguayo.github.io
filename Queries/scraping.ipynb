{
 "cells": [
  {
   "cell_type": "code",
   "execution_count": 1,
   "metadata": {},
   "outputs": [
    {
     "name": "stdout",
     "output_type": "stream",
     "text": [
      "Requirement already satisfied: beautifulsoup4 in c:\\users\\emili\\anaconda3\\envs\\environment_name\\lib\\site-packages (4.11.1)\n",
      "Requirement already satisfied: soupsieve>1.2 in c:\\users\\emili\\anaconda3\\envs\\environment_name\\lib\\site-packages (from beautifulsoup4) (2.3.2.post1)\n"
     ]
    }
   ],
   "source": [
    "!pip install beautifulsoup4"
   ]
  },
  {
   "cell_type": "code",
   "execution_count": 2,
   "metadata": {},
   "outputs": [],
   "source": [
    "from requests import get\n",
    "from bs4 import BeautifulSoup"
   ]
  },
  {
   "cell_type": "code",
   "execution_count": 37,
   "metadata": {},
   "outputs": [
    {
     "name": "stdout",
     "output_type": "stream",
     "text": [
      "🐾✨ #Pusheen  #pusheenthecat  #toebeans🐾  #fyp  \n",
      "🍨🍦🍧 #pusheen  #pusheentok  #cute  #kawaii  #animation  \n",
      "🍜#pusheen  #pusheentok  #cute  #kawaii  #animation \n",
      "Watch a Pusheen Bakery Christmas now on our YouTube channel! ✨ 🎄 #Pusheen  #fyp  #pusheentok  #holidaysznn  \n",
      "🧡 ♨️ 🍊 #Pusheen  #capybaratok  #fyp  #chillvibes  \n",
      "Coloring Cuteness: A Pusheen Coloring & Activity Book is out now! 🎉💖 You can pick it up on Amazon, Barnes & Noble, or wherever you buy your books 📖🎨 #pusheen  #coloring  #coloringbook  \n",
      "🎶✨ #Pusheen  #pusheencat  #fyp  #holidaycountdown  #yulelog  \n",
      "her time has arrived 🎀  new limited edition plush @ Pusheen Shop 🎀 #pusheen  #pusheentok  #plushies  #christmas  \n",
      "🎤🎵🌙 #Pusheen  #pusheencat  #fyp  #catsoftiktok  \n",
      "💜🍰🎃 #Pusheen  #PusheenHalloween  #PastelHalloween  #FYP  \n",
      "Watch Pusheen: Devil’s Food Cake now on our YouTube channel! 💜🍰 #FYP  #Pusheen  #PastelHalloween  #PusheenHalloween \n",
      "hi #Pusheen  #FYP  #PusheentheCat  \n",
      "👀 #Pusheen  #FYP  #sideye  \n",
      "🎶💕#Pusheen  #capybara  #fyp  #besties \n",
      "Happy Birthday, Sloth! Have a lazy & cozy day in his honor! ✨ #fyp  #Pusheen  #Sloth  #happybirthday  \n",
      "Watch Pusheen’s Showdown now on our YouTube Channel! 🌵☀️ #Pusheen  #pusheentok  #fyp  \n"
     ]
    }
   ],
   "source": [
    "user = str(input('Enter username: '))\n",
    "\n",
    "url = 'https://www.tiktok.com/@' + user\n",
    "\n",
    "response = get(url)\n",
    "\n",
    "# print(response.text[:800])\n",
    "\n",
    "html_soup = BeautifulSoup(response.text, 'html.parser')\n",
    "\n",
    "# print(html_soup.prettify())\n",
    "\n",
    "descriptions = html_soup.select('.tiktok-1wrhn5c-AMetaCaptionLine')\n",
    "\n",
    "for d in descriptions:\n",
    "    print(d.text)"
   ]
  }
 ],
 "metadata": {
  "kernelspec": {
   "display_name": "environment_name",
   "language": "python",
   "name": "python3"
  },
  "language_info": {
   "codemirror_mode": {
    "name": "ipython",
    "version": 3
   },
   "file_extension": ".py",
   "mimetype": "text/x-python",
   "name": "python",
   "nbconvert_exporter": "python",
   "pygments_lexer": "ipython3",
   "version": "3.10.9"
  }
 },
 "nbformat": 4,
 "nbformat_minor": 2
}
